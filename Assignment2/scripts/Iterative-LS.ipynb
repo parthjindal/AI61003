{
 "cells": [
  {
   "cell_type": "code",
   "execution_count": 1,
   "metadata": {},
   "outputs": [],
   "source": [
    "import numpy as np\n",
    "import matplotlib.pyplot as plt"
   ]
  },
  {
   "cell_type": "code",
   "execution_count": 2,
   "metadata": {},
   "outputs": [],
   "source": [
    "A = np.random.rand(30,10)\n",
    "assert np.linalg.matrix_rank(A) == 10\n",
    "b = np.random.rand(30,)"
   ]
  },
  {
   "cell_type": "code",
   "execution_count": 3,
   "metadata": {},
   "outputs": [],
   "source": [
    "def iterative_ls(A, b, max_iter=100):\n",
    "    step_size = 1 / (np.linalg.norm(A, 2) ** 2)\n",
    "    xs = np.zeros((max_iter, A.shape[1]))\n",
    "    x = np.zeros(A.shape[1], dtype=np.float32)\n",
    "    xs[0] = x\n",
    "    print(\"Max-iterations: \", max_iter)\n",
    "    for i in range(max_iter):\n",
    "        x = x - step_size * (A.T @ (A @ x - b))\n",
    "        xs[i] = x\n",
    "    return x, xs\n"
   ]
  },
  {
   "cell_type": "code",
   "execution_count": 4,
   "metadata": {},
   "outputs": [
    {
     "name": "stdout",
     "output_type": "stream",
     "text": [
      "Max-iterations:  3000\n"
     ]
    }
   ],
   "source": [
    "x_hat = np.linalg.lstsq(A, b,rcond=None)[0]\n",
    "x,xs = iterative_ls(A, b,3000)\n",
    "errors = np.linalg.norm(x_hat - xs, 2,axis=1)"
   ]
  },
  {
   "cell_type": "code",
   "execution_count": 5,
   "metadata": {},
   "outputs": [
    {
     "data": {
      "image/png": "[encoded data removed]",
      "text/plain": [
       "<Figure size 432x288 with 1 Axes>"
      ]
     },
     "metadata": {
      "needs_background": "light"
     },
     "output_type": "display_data"
    }
   ],
   "source": [
    "plt.plot(errors)\n",
    "plt.xlabel('Iteration')\n",
    "plt.ylabel('Error')\n",
    "plt.title('Iterative LS')\n",
    "plt.show()"
   ]
  },
  {
   "cell_type": "markdown",
   "metadata": {},
   "source": [
    "As seen from the graph of $e_k = ||x_k - \\hat{x}||_2$, the algorithm converges to the optimal solution $x = \\hat{x}$."
   ]
  },
  {
   "cell_type": "markdown",
   "metadata": {},
   "source": []
  }
 ],
 "metadata": {
  "interpreter": {
   "hash": "a529b7424b79f2c540a1cbf977a80ecba331b72ab360de384ef569b2ff0755e3"
  },
  "kernelspec": {
   "display_name": "Python 3.7.10 64-bit ('RL': conda)",
   "name": "python3"
  },
  "language_info": {
   "codemirror_mode": {
    "name": "ipython",
    "version": 3
   },
   "file_extension": ".py",
   "mimetype": "text/x-python",
   "name": "python",
   "nbconvert_exporter": "python",
   "pygments_lexer": "ipython3",
   "version": "3.7.10"
  },
  "orig_nbformat": 4
 },
 "nbformat": 4,
 "nbformat_minor": 2
}
