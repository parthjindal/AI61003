{
 "cells": [
  {
   "cell_type": "code",
   "execution_count": 2,
   "metadata": {},
   "outputs": [],
   "source": [
    "import numpy as np\n",
    "from tensorflow.keras.datasets import mnist\n",
    "from typing import List\n",
    "import seaborn as sns\n",
    "import matplotlib.pyplot as plt"
   ]
  },
  {
   "cell_type": "code",
   "execution_count": 3,
   "metadata": {},
   "outputs": [],
   "source": [
    "def load_data():\n",
    "    (x_train, y_train), (x_test, y_test) = mnist.load_data()\n",
    "\n",
    "    # normalize training and test data\n",
    "    x_train = x_train / 255\n",
    "    x_test = x_test / 255\n",
    "    x_train = x_train.reshape(x_train.shape[0], -1)\n",
    "    x_test = x_test.reshape(x_test.shape[0], -1)\n",
    "\n",
    "    digits = []\n",
    "    targets = []\n",
    "    for i in range(10):\n",
    "        images = x_train[y_train == i]\n",
    "        digits.append(images[np.random.choice(\n",
    "            len(images), 1000, replace=False)])\n",
    "        targets.append(np.full((1000,), i))\n",
    "\n",
    "    x_train = np.vstack(digits)\n",
    "    y_train = np.hstack(targets)\n",
    "\n",
    "    # shuffle the data\n",
    "    permutation = np.random.permutation(x_train.shape[0])\n",
    "    x_train = x_train[permutation]\n",
    "    y_train = y_train[permutation]\n",
    "\n",
    "    test_indices = np.random.choice(x_test.shape[0], 1000)\n",
    "    x_test = x_test[test_indices]\n",
    "    y_test = y_test[test_indices]\n",
    "    return (x_train, y_train), (x_test, y_test)"
   ]
  },
  {
   "cell_type": "code",
   "execution_count": 4,
   "metadata": {},
   "outputs": [],
   "source": [
    "def LeastSquares(A, b, reg=1.0):\n",
    "    return np.linalg.inv((A.T @ A) + reg * np.eye(A.shape[1])) @ (A.T @ b)\n",
    "\n",
    "\n",
    "def confusion_matrix(y_true, y_pred, labels: List = []):\n",
    "    \"\"\"\n",
    "    Computes the confusion matrix for a given set of labels.\n",
    "    Args:\n",
    "        y_true: The true labels.\n",
    "        y_pred: The predicted labels.\n",
    "        labels: The list of labels to consider.\n",
    "    Returns:\n",
    "        The confusion matrix. (np.ndarray)\n",
    "    \"\"\"\n",
    "    matrix = np.zeros((len(labels), len(labels)), dtype=int)\n",
    "    for i in range(len(y_pred)):\n",
    "        matrix[y_true[i], y_pred[i]] += 1\n",
    "    return matrix"
   ]
  },
  {
   "cell_type": "code",
   "execution_count": 5,
   "metadata": {},
   "outputs": [
    {
     "name": "stdout",
     "output_type": "stream",
     "text": [
      "Accuracy : 0.84\n"
     ]
    },
    {
     "data": {
      "image/png": "[encoded data removed]",
      "text/plain": [
       "<Figure size 432x288 with 2 Axes>"
      ]
     },
     "metadata": {
      "needs_background": "light"
     },
     "output_type": "display_data"
    }
   ],
   "source": [
    "\n",
    "(x_train, y_train), (x_test, y_test) = load_data()\n",
    "classifier = np.zeros((x_train.shape[1], 10))\n",
    "for i in range(10):\n",
    "    b = 2*(y_train == i) - 1\n",
    "    classifier[:, i] = LeastSquares(x_train, b, reg=1.0)\n",
    "y_pred = np.argmax(x_test @ classifier, axis=1).astype(int)\n",
    "print(f\"Accuracy : {np.mean(y_pred == y_test)}\")\n",
    "\n",
    "cnf_matrix = confusion_matrix(y_test, y_pred, labels=range(10))\n",
    "sns.heatmap(cnf_matrix, annot=True, cmap=\"Blues\", fmt=\"d\")\n",
    "plt.title(\"Confusion Matrix\")\n",
    "plt.xlabel(\"Predicted Label\")\n",
    "plt.ylabel(\"True Label\")\n",
    "plt.show()"
   ]
  }
 ],
 "metadata": {
  "interpreter": {
   "hash": "a529b7424b79f2c540a1cbf977a80ecba331b72ab360de384ef569b2ff0755e3"
  },
  "kernelspec": {
   "display_name": "Python 3.7.10 64-bit ('RL': conda)",
   "name": "python3"
  },
  "language_info": {
   "codemirror_mode": {
    "name": "ipython",
    "version": 3
   },
   "file_extension": ".py",
   "mimetype": "text/x-python",
   "name": "python",
   "nbconvert_exporter": "python",
   "pygments_lexer": "ipython3",
   "version": "3.7.10"
  },
  "orig_nbformat": 4
 },
 "nbformat": 4,
 "nbformat_minor": 2
}
