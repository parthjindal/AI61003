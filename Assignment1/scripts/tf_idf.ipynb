{
 "cells": [
  {
   "cell_type": "code",
   "execution_count": 1,
   "source": [
    "from sklearn.feature_extraction.text import TfidfVectorizer\n",
    "import numpy as np\n",
    "import wikipedia\n",
    "from kmeans import KMeans"
   ],
   "outputs": [],
   "metadata": {}
  },
  {
   "cell_type": "code",
   "execution_count": 2,
   "source": [
    "titles = [\n",
    "    'Linear algebra',\n",
    "    'Data Science',\n",
    "    'Artificial intelligence',\n",
    "    'European Central Bank',\n",
    "    'Financial technology',\n",
    "    'International Monetary Fund',\n",
    "    'Basketball',\n",
    "    'Swimming',\n",
    "    'Cricket'\n",
    "]"
   ],
   "outputs": [],
   "metadata": {}
  },
  {
   "cell_type": "code",
   "execution_count": 3,
   "source": [
    "def load_data():\n",
    "    articles = [wikipedia.page(\n",
    "        title, preload=True).content for title in titles]\n",
    "    vectorizer = TfidfVectorizer(stop_words={'english'})\n",
    "    x_train = vectorizer.fit_transform(articles).toarray()\n",
    "    y_train = np.arange(len(titles))\n",
    "\n",
    "    return (x_train, y_train), vectorizer"
   ],
   "outputs": [],
   "metadata": {}
  },
  {
   "cell_type": "code",
   "execution_count": 5,
   "source": [
    "(x_train, y_train), vectorizer = load_data()"
   ],
   "outputs": [],
   "metadata": {}
  },
  {
   "cell_type": "code",
   "execution_count": 6,
   "source": [
    "def main():\n",
    "    print(\"Data loaded, Finding Clusters ...\")\n",
    "    k = [4, 8,12]\n",
    "    losses = []\n",
    "    for num_clusters in k:\n",
    "        kmeans = KMeans(x_train, y_train, num_clusters=num_clusters,\n",
    "                        seed='cluster', tol=1e-9, max_iter=200)\n",
    "        kmeans.fit(verbose=False)\n",
    "        print(\"Clusters found, printing results ...\")\n",
    "        losses.append(kmeans.calc_loss())\n",
    "        clusters = [[] for i in range(num_clusters)]\n",
    "        for i,title in enumerate(titles):\n",
    "            index = kmeans.cluster_labels[i]\n",
    "            clusters[index].append(title)\n",
    "        print(\"Clusters:\")\n",
    "        for i, cluster in enumerate(clusters):\n",
    "            print(\"Cluster {}: {}\".format(i, cluster))\n"
   ],
   "outputs": [],
   "metadata": {}
  },
  {
   "cell_type": "code",
   "execution_count": 7,
   "source": [
    "main()"
   ],
   "outputs": [
    {
     "output_type": "stream",
     "name": "stdout",
     "text": [
      "Data loaded, Finding Clusters ...\n",
      "Total Iterations: 1, Loss: 0.22791402402506136\n",
      "Clusters found, printing results ...\n",
      "Clusters:\n",
      "Cluster 0: ['Linear algebra', 'European Central Bank', 'International Monetary Fund', 'Basketball', 'Cricket']\n",
      "Cluster 1: ['Financial technology']\n",
      "Cluster 2: ['Data Science', 'Artificial intelligence']\n",
      "Cluster 3: ['Swimming']\n",
      "Total Iterations: 1, Loss: 0.028789961445557916\n",
      "Clusters found, printing results ...\n",
      "Clusters:\n",
      "Cluster 0: ['Artificial intelligence']\n",
      "Cluster 1: ['European Central Bank', 'International Monetary Fund']\n",
      "Cluster 2: ['Cricket']\n",
      "Cluster 3: ['Financial technology']\n",
      "Cluster 4: ['Linear algebra']\n",
      "Cluster 5: ['Data Science']\n",
      "Cluster 6: ['Basketball']\n",
      "Cluster 7: ['Swimming']\n",
      "Total Iterations: 1, Loss: 0.07497952570859467\n",
      "Clusters found, printing results ...\n",
      "Clusters:\n",
      "Cluster 0: ['Data Science']\n",
      "Cluster 1: ['Financial technology', 'International Monetary Fund']\n",
      "Cluster 2: ['Swimming']\n",
      "Cluster 3: ['European Central Bank']\n",
      "Cluster 4: []\n",
      "Cluster 5: []\n",
      "Cluster 6: ['Linear algebra']\n",
      "Cluster 7: ['Basketball', 'Cricket']\n",
      "Cluster 8: []\n",
      "Cluster 9: []\n",
      "Cluster 10: ['Artificial intelligence']\n",
      "Cluster 11: []\n"
     ]
    }
   ],
   "metadata": {}
  },
  {
   "cell_type": "code",
   "execution_count": null,
   "source": [],
   "outputs": [],
   "metadata": {}
  }
 ],
 "metadata": {
  "orig_nbformat": 4,
  "language_info": {
   "name": "python",
   "version": "3.7.10",
   "mimetype": "text/x-python",
   "codemirror_mode": {
    "name": "ipython",
    "version": 3
   },
   "pygments_lexer": "ipython3",
   "nbconvert_exporter": "python",
   "file_extension": ".py"
  },
  "kernelspec": {
   "name": "python3",
   "display_name": "Python 3.7.10 64-bit ('RL': conda)"
  },
  "interpreter": {
   "hash": "15e12cfe0361206d66230a54dc7fb2938cfb5d9b46e860fa44b9fcd523b6b277"
  }
 },
 "nbformat": 4,
 "nbformat_minor": 2
}