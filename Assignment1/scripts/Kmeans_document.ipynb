{
 "cells": [
  {
   "cell_type": "code",
   "execution_count": null,
   "source": [
    "from sklearn.feature_extraction.text import TfidfVectorizer\n",
    "import numpy as np\n",
    "import wikipedia"
   ],
   "outputs": [],
   "metadata": {}
  },
  {
   "cell_type": "code",
   "execution_count": null,
   "source": [
    "titles = [\n",
    "    'Linear algebra',\n",
    "    'Data Science',\n",
    "    'Artificial intelligence',\n",
    "    'European Central Bank',\n",
    "    'Financial technology',\n",
    "    'International Monetary Fund',\n",
    "    'Basketball',\n",
    "    'Swimming',\n",
    "    'Cricket'\n",
    "]"
   ],
   "outputs": [],
   "metadata": {}
  },
  {
   "cell_type": "code",
   "execution_count": null,
   "source": [
    "class KMeans():\n",
    "    def __init__(\n",
    "        self,\n",
    "        x_train,\n",
    "        y_train,\n",
    "        num_clusters=3,\n",
    "        max_iter=100,\n",
    "        tol=1e-4,\n",
    "        seed: str = None,\n",
    "    ):\n",
    "        \"\"\"\n",
    "        Initialize KMeans object.\n",
    "        Arguments:\n",
    "            dataset: numpy array of shape (n_samples, n_features)\n",
    "            k: number of clusters\n",
    "            max_iter: maximum number of iterations\n",
    "            tol: tolerance for convergence\n",
    "            seed: initial cluster centroids choice ['random','cluster']\n",
    "        \"\"\"\n",
    "        self.dataset = x_train\n",
    "        self.targets = y_train\n",
    "\n",
    "        self.k = num_clusters\n",
    "        self.max_iter = max_iter\n",
    "        self.tol = tol\n",
    "\n",
    "        self.num_features = x_train.shape[1]\n",
    "        self.num_samples = x_train.shape[0]\n",
    "        self.losses = []\n",
    "\n",
    "        if seed == \"random\":\n",
    "            self.centroids = np.random.uniform(\n",
    "                size=(self.k, self.num_features))\n",
    "        elif seed == \"cluster\":\n",
    "            if (self.k > self.num_samples):  # hack for large k\n",
    "                self.centroids = np.copy(self.dataset[np.random.choice(\n",
    "                    self.num_samples, self.k, replace=True)])\n",
    "            else:\n",
    "                self.centroids = np.copy(self.dataset[np.random.choice(\n",
    "                    self.num_samples, self.k, replace=False)])\n",
    "        else:\n",
    "            raise ValueError(\"seed must be in ['random', 'cluster']\")\n",
    "        # store old centroids for convergence check\n",
    "        self.old_centroids = np.copy(self.centroids)\n",
    "        # store cluster assignment indexes\n",
    "        self.cluster_labels = np.zeros(self.num_samples, dtype=int)\n",
    "        self.assign_clusters()\n",
    "\n",
    "    def converged(self):\n",
    "        return np.all(np.linalg.norm(self.centroids - self.old_centroids, ord=2, axis=1) < self.tol)\n",
    "\n",
    "    def assign_clusters(self):\n",
    "        for i in range(self.num_samples):\n",
    "            self.cluster_labels[i] = np.argmin(\n",
    "                np.linalg.norm(self.dataset[i]-self.centroids, ord=2, axis=1))\n",
    "\n",
    "    def fit(self, verbose=False):\n",
    "        for i in range(self.max_iter):\n",
    "            self.assign_clusters()\n",
    "            self.update_centroids()\n",
    "            loss = self.calc_loss()\n",
    "            self.losses.append(loss)\n",
    "            if verbose:\n",
    "                print(f\"Iteration {i+1} Loss: {loss}\")\n",
    "                print(\"---------------------------\")\n",
    "            if self.converged():\n",
    "                print(f\"Total Iterations: {i+1}, Loss: {loss}\")\n",
    "                break\n",
    "            self.old_centroids = np.copy(self.centroids)\n",
    "\n",
    "    def calc_loss(self):\n",
    "        loss = np.mean(np.square(np.linalg.norm(\n",
    "            self.dataset - self.centroids[self.cluster_labels], ord=2, axis=1)), axis=0)\n",
    "        return loss\n",
    "\n",
    "    def update_centroids(self):\n",
    "        for i in range(self.k):\n",
    "            alloted = self.dataset[self.cluster_labels == i]\n",
    "            if len(alloted) > 0:\n",
    "                self.centroids[i] = np.mean(alloted, axis=0)\n",
    "            else:\n",
    "                self.centroids[i] = np.zeros(self.num_features)\n"
   ],
   "outputs": [],
   "metadata": {}
  },
  {
   "cell_type": "code",
   "execution_count": null,
   "source": [
    "def load_data():\n",
    "    articles = [wikipedia.page(\n",
    "        title, preload=True).content for title in titles]\n",
    "    vectorizer = TfidfVectorizer(stop_words={'english'})\n",
    "    x_train = vectorizer.fit_transform(articles).toarray()\n",
    "    y_train = np.arange(len(titles))\n",
    "\n",
    "    return (x_train, y_train), vectorizer"
   ],
   "outputs": [],
   "metadata": {}
  },
  {
   "cell_type": "code",
   "execution_count": null,
   "source": [
    "def main():\n",
    "    (x_train, y_train),_ = load_data()\n",
    "    print(\"Data loaded, Finding Clusters ...\")\n",
    "    k = [6]\n",
    "    losses = []\n",
    "    for num_clusters in k:\n",
    "        kmeans = KMeans(x_train, y_train, num_clusters=num_clusters,\n",
    "                        seed='cluster', tol=1e-7, max_iter=100)\n",
    "        kmeans.fit(verbose=False)\n",
    "        print(\"Clusters found, printing results ...\")\n",
    "        losses.append(kmeans.calc_loss())\n",
    "        clusters = [[] for i in range(num_clusters)]\n",
    "        for i, title in enumerate(titles):\n",
    "            index = kmeans.cluster_labels[i]\n",
    "            clusters[index].append(title)\n",
    "        print(\"Clusters:\")\n",
    "        for i, cluster in enumerate(clusters):\n",
    "            print(\"Cluster {}: {}\".format(i, cluster))\n"
   ],
   "outputs": [],
   "metadata": {}
  },
  {
   "cell_type": "code",
   "execution_count": 11,
   "source": [
    "(x_train, y_train),_ = load_data()"
   ],
   "outputs": [],
   "metadata": {}
  },
  {
   "cell_type": "code",
   "execution_count": 20,
   "source": [
    "# do PCA on the data\n",
    "from sklearn.decomposition import PCA\n",
    "pca = PCA(n_components=3)\n",
    "x_train_pca = pca.fit_transform(x_train)\n",
    "# plot the data and label them with the titles \n",
    "import matplotlib.pyplot as plt\n",
    "plt.scatter(x_train_pca[:,0], x_train_pca[:,1], c=y_train,s = 20)\n",
    "for i,title in enumerate(titles):\n",
    "    plt.annotate(title, (x_train_pca[i,0], x_train_pca[i,1]),size = 8)\n",
    "plt.show()\n"
   ],
   "outputs": [
    {
     "output_type": "display_data",
     "data": {
      "image/png": "[encoded data removed]",
      "text/plain": [
       "<Figure size 432x288 with 1 Axes>"
      ]
     },
     "metadata": {
      "needs_background": "light"
     }
    }
   ],
   "metadata": {}
  },
  {
   "cell_type": "code",
   "execution_count": null,
   "source": [],
   "outputs": [],
   "metadata": {}
  }
 ],
 "metadata": {
  "orig_nbformat": 4,
  "language_info": {
   "name": "python",
   "version": "3.7.10",
   "mimetype": "text/x-python",
   "codemirror_mode": {
    "name": "ipython",
    "version": 3
   },
   "pygments_lexer": "ipython3",
   "nbconvert_exporter": "python",
   "file_extension": ".py"
  },
  "kernelspec": {
   "name": "python3",
   "display_name": "Python 3.7.10 64-bit ('RL': conda)"
  },
  "interpreter": {
   "hash": "15e12cfe0361206d66230a54dc7fb2938cfb5d9b46e860fa44b9fcd523b6b277"
  }
 },
 "nbformat": 4,
 "nbformat_minor": 2
}